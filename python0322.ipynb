{
  "nbformat": 4,
  "nbformat_minor": 0,
  "metadata": {
    "colab": {
      "provenance": [],
      "authorship_tag": "ABX9TyN4+2PBh6sd90xGA68/UaJI",
      "include_colab_link": true
    },
    "kernelspec": {
      "name": "python3",
      "display_name": "Python 3"
    },
    "language_info": {
      "name": "python"
    }
  },
  "cells": [
    {
      "cell_type": "markdown",
      "metadata": {
        "id": "view-in-github",
        "colab_type": "text"
      },
      "source": [
        "<a href=\"https://colab.research.google.com/github/HyoungMeeKim/PythonStudy/blob/main/python0322.ipynb\" target=\"_parent\"><img src=\"https://colab.research.google.com/assets/colab-badge.svg\" alt=\"Open In Colab\"/></a>"
      ]
    },
    {
      "cell_type": "code",
      "execution_count": null,
      "metadata": {
        "colab": {
          "base_uri": "https://localhost:8080/"
        },
        "id": "urlQI1OOYFWO",
        "outputId": "7104963c-b6d4-4a67-ccbc-8c9c37b7b63a"
      },
      "outputs": [
        {
          "output_type": "stream",
          "name": "stdout",
          "text": [
            "   *\n",
            "  ***\n",
            " *****\n",
            "*******\n"
          ]
        }
      ],
      "source": [
        "print(\"   *\")\n",
        "print(\"  ***\")\n",
        "print(\" *****\")\n",
        "print(\"*******\")"
      ]
    },
    {
      "cell_type": "markdown",
      "source": [],
      "metadata": {
        "id": "mVWgaZBGY3Nk"
      }
    },
    {
      "cell_type": "markdown",
      "source": [
        "원뿔 계산 프로그램램"
      ],
      "metadata": {
        "id": "Q5nLcMFCaZK4"
      }
    },
    {
      "cell_type": "code",
      "source": [
        "#반지름, 높이 값 할당\n",
        "rad = int(input(\"반지름의 값을 입력하세요: \"))  # rad = input(\"...\") \\n rad = int(rad)\n",
        "hei = int(input(\"높이 값을 입력하세요: \"))\n",
        "#부피 계산\n",
        "vol = 1/3 * 3.14 * rad ** 2 * hei\n",
        "#겉넓이 계산\n",
        "suf = 3.14 * rad ** 2 + 3.14 * rad * hei\n",
        "print(\"부피 = \", vol, \", 겉넓이 = \", suf, sep=\"\") \n",
        "#sep=\"\" 공백 없이 출력, print(~, ~, ~, sep=\"a\") -> ~a~a~\n",
        "#end=\"\" 다음칸 print(~) ~가 개행없이 이어져 출력"
      ],
      "metadata": {
        "colab": {
          "base_uri": "https://localhost:8080/"
        },
        "id": "ypZsF20NYpb1",
        "outputId": "5474c922-b0da-4978-b258-5996007d4a63"
      },
      "execution_count": null,
      "outputs": [
        {
          "output_type": "stream",
          "name": "stdout",
          "text": [
            "반지름의 값을 입력하세요: 30\n",
            "높이 값을 입력하세요: 50\n",
            "부피 = 47100.0, 겉넓이 = 7536.0\n"
          ]
        }
      ]
    },
    {
      "cell_type": "code",
      "source": [
        "# 0327 파이썬 6\n",
        "suf = 10\n",
        "vol = 20\n",
        "isStop = suf == vol # sub == vol의 불리언값을 isStop에 저장\n",
        "print(isStop)"
      ],
      "metadata": {
        "colab": {
          "base_uri": "https://localhost:8080/"
        },
        "id": "V6JNomALyAaT",
        "outputId": "2bf4074d-14a7-4ff2-ca7f-5dd12e3112af"
      },
      "execution_count": null,
      "outputs": [
        {
          "output_type": "stream",
          "name": "stdout",
          "text": [
            "False\n"
          ]
        }
      ]
    },
    {
      "cell_type": "code",
      "source": [
        "#반지름 사용자 입력\n",
        "rad = int(input(\"반지름: \"))\n",
        "#높이 사용자 입력\n",
        "hei = int(input(\"높이: \"))\n",
        "if (rad > 0 and hei > 0) :\n",
        "    #원뿔의 부피와 겉넓이 계산산\n",
        "    vol = 1/3 * 3.14 * rad ** 2 * hei\n",
        "    suf = 3.14 * rad ** 2 + 3.14 * rad * hei\n",
        "    print(\"원뿔의 부피 = \", vol, sep=\"\")\n",
        "    print(\"원뿔의 겉넓이 = \", suf, sep=\"\")\n",
        "else : \n",
        "    print(\"반지름과 높이의 값을 모두 양수로 입력하시요.\")"
      ],
      "metadata": {
        "colab": {
          "base_uri": "https://localhost:8080/"
        },
        "id": "AA3aWav10Lg1",
        "outputId": "86b0fadd-043e-4377-d178-d5b52de6c99b"
      },
      "execution_count": null,
      "outputs": [
        {
          "output_type": "stream",
          "name": "stdout",
          "text": [
            "반지름: -10\n",
            "높이: 5\n",
            "반지름과 높이의 값을 모두 양수로 입력\n"
          ]
        }
      ]
    },
    {
      "cell_type": "code",
      "source": [
        "# A, B, C 사용자 입력  & 가장 큰 수 찾기기\n",
        "A = int(input (\"A 입력: \"))\n",
        "B = int(input (\"B 입력: \"))\n",
        "C = int(input (\"C 입력: \"))\n",
        "# A, B, C 중 가장 큰 수 출력\n",
        "if A > B:\n",
        "    if A > C:\n",
        "        print(A)\n",
        "    else :\n",
        "        print(C)\n",
        "else :\n",
        "    if B > C:\n",
        "        print(B)\n",
        "    else :\n",
        "        print(C)"
      ],
      "metadata": {
        "colab": {
          "base_uri": "https://localhost:8080/"
        },
        "id": "9EEqG4ei9eXG",
        "outputId": "a7677c04-83be-4d19-d2b7-27141bd42659"
      },
      "execution_count": null,
      "outputs": [
        {
          "output_type": "stream",
          "name": "stdout",
          "text": [
            "A 입력: 15\n",
            "B 입력: 23\n",
            "C 입력: 12348\n",
            "12348\n"
          ]
        }
      ]
    },
    {
      "cell_type": "markdown",
      "source": [
        "2023.04.05. 파이썬 7강"
      ],
      "metadata": {
        "id": "GpqmbgMWVr65"
      }
    },
    {
      "cell_type": "code",
      "source": [
        "#메시지 저장\n",
        "msg = \"저는 파이썬을 잘 다룰 수 있습니다.\"\n",
        " \n",
        "#5번 반복 출력\n",
        "count = 1\n",
        "while count <= 5:\n",
        "    print(msg)\n",
        "    count += 1"
      ],
      "metadata": {
        "colab": {
          "base_uri": "https://localhost:8080/"
        },
        "id": "WgPxKBvuVkwq",
        "outputId": "adaa0958-17f3-43f7-e8f8-fb5745ff3e79"
      },
      "execution_count": null,
      "outputs": [
        {
          "output_type": "stream",
          "name": "stdout",
          "text": [
            "저는 파이썬을 잘 다룰 수 있습니다.\n",
            "저는 파이썬을 잘 다룰 수 있습니다.\n",
            "저는 파이썬을 잘 다룰 수 있습니다.\n",
            "저는 파이썬을 잘 다룰 수 있습니다.\n",
            "저는 파이썬을 잘 다룰 수 있습니다.\n"
          ]
        }
      ]
    },
    {
      "cell_type": "code",
      "source": [
        "#1부터 사용자가 입력한 값 n까지 합 구하기\n",
        "num = int (input(\"어디까지 더할까요? \"))\n",
        "sum = 0\n",
        "i = 1\n",
        "while i <= num:\n",
        "    sum += i\n",
        "    i += 1\n",
        "print(sum)"
      ],
      "metadata": {
        "colab": {
          "base_uri": "https://localhost:8080/"
        },
        "id": "frAoRxtvX_Aj",
        "outputId": "178141e6-06fb-4026-9668-a62d9e20eaa5"
      },
      "execution_count": null,
      "outputs": [
        {
          "output_type": "stream",
          "name": "stdout",
          "text": [
            "어디까지 더할까요? 10\n",
            "55\n"
          ]
        }
      ]
    },
    {
      "cell_type": "code",
      "source": [
        "#사용자가 입력한 단의 구구단 출력하기\n",
        "base = int (input(\"출력할 단을 입력하세요. \"))\n",
        "i = 1\n",
        "while i <= 9:\n",
        "    print(base, \"X\", i, \"=\", base * i)\n",
        "    i = i + 1"
      ],
      "metadata": {
        "colab": {
          "base_uri": "https://localhost:8080/"
        },
        "id": "CL81cMspZ3vM",
        "outputId": "b484e70a-dc27-498b-b1ec-7e0001c0f522"
      },
      "execution_count": null,
      "outputs": [
        {
          "output_type": "stream",
          "name": "stdout",
          "text": [
            "출력할 단을 입력하세요. 6\n",
            "6 X 1 = 6\n",
            "6 X 2 = 12\n",
            "6 X 3 = 18\n",
            "6 X 4 = 24\n",
            "6 X 5 = 30\n",
            "6 X 6 = 36\n",
            "6 X 7 = 42\n",
            "6 X 8 = 48\n",
            "6 X 9 = 54\n"
          ]
        }
      ]
    },
    {
      "cell_type": "code",
      "source": [
        "#리스트 생성\n",
        "hei_list = [1, 5, 14, 26, 31]\n",
        "for hei in hei_list: #hei는 변수명\n",
        "    print(hei)    "
      ],
      "metadata": {
        "colab": {
          "base_uri": "https://localhost:8080/"
        },
        "id": "lhyCcRt2esHU",
        "outputId": "86203bd5-3c77-47dd-eff1-106d6fd7dca3"
      },
      "execution_count": null,
      "outputs": [
        {
          "output_type": "stream",
          "name": "stdout",
          "text": [
            "1\n",
            "5\n",
            "14\n",
            "26\n",
            "31\n"
          ]
        }
      ]
    },
    {
      "cell_type": "code",
      "source": [
        "#반지름 10, 높이 1, 5, 14, 26, 31인 원뿔의 부피와 겉넓이 각각 출력\n",
        "hei_list = [1, 5, 14, 26, 31]\n",
        "rad = 10\n",
        "for hei in hei_list:\n",
        "    #부피와 겉넓이 계산\n",
        "    vol = 1/3 * 3.14 * rad ** 2 * hei\n",
        "    suf = 3.14 * rad ** 2 + 3.14 * rad * hei\n",
        "    print(\"반지름:\", rad, \", 높이:\", hei, \"인 원뿔\", sep=\"\")\n",
        "    print(\"원뿔의 부피 = \", vol)\n",
        "    print(\"원뿔의 겉넓이 = \", suf)\n"
      ],
      "metadata": {
        "colab": {
          "base_uri": "https://localhost:8080/"
        },
        "id": "1DHs0G20fOSA",
        "outputId": "a604692b-4ac4-45f3-f534-04307bc027a9"
      },
      "execution_count": null,
      "outputs": [
        {
          "output_type": "stream",
          "name": "stdout",
          "text": [
            "반지름:10, 높이:1인 원뿔\n",
            "원뿔의 부피 =  104.66666666666666\n",
            "원뿔의 겉넓이 =  345.4\n",
            "반지름:10, 높이:5인 원뿔\n",
            "원뿔의 부피 =  523.3333333333333\n",
            "원뿔의 겉넓이 =  471.0\n",
            "반지름:10, 높이:14인 원뿔\n",
            "원뿔의 부피 =  1465.3333333333333\n",
            "원뿔의 겉넓이 =  753.6\n",
            "반지름:10, 높이:26인 원뿔\n",
            "원뿔의 부피 =  2721.333333333333\n",
            "원뿔의 겉넓이 =  1130.4\n",
            "반지름:10, 높이:31인 원뿔\n",
            "원뿔의 부피 =  3244.6666666666665\n",
            "원뿔의 겉넓이 =  1287.4\n"
          ]
        }
      ]
    },
    {
      "cell_type": "markdown",
      "source": [
        "list와 range, zip 이용"
      ],
      "metadata": {
        "id": "dTPdLqYgmjgf"
      }
    },
    {
      "cell_type": "code",
      "source": [
        "#반지름과 높이가 (10, 1), (20, 5), (30, 14)인 원뿔의 부피와 겉넓이 각각 출력\n",
        "rad_list = range(10, 40, 10) #range(초기값(기본 0), 최종값+증가치값, 증가치(기본 1)) => 10부터 10씩 증가시켜 40이 되기 전까지\n",
        "hei_iist = [1, 5, 14]\n",
        "for rad, hei in zip(rad_list, hei_list):  #zip: 두 개 이상의 (길이가 값은) 요소(list 등)를 묶어줌\n",
        "    vol = 1/3 * 3.14 * rad ** 2 * hei\n",
        "    suf = 3.14 * rad ** 2 + 3.14 * rad * hei\n",
        "    print(\"반지름:\", rad, \", 높이:\", hei, \"인 원뿔\", sep=\"\")\n",
        "    print(\"원뿔의 부피 = \", vol)\n",
        "    print(\"원뿔의 겉넓이 = \", suf)"
      ],
      "metadata": {
        "colab": {
          "base_uri": "https://localhost:8080/"
        },
        "id": "0AN64cHrjEsX",
        "outputId": "11287355-ef7a-49a5-faad-1a7c170522a2"
      },
      "execution_count": null,
      "outputs": [
        {
          "output_type": "stream",
          "name": "stdout",
          "text": [
            "반지름:10, 높이:1인 원뿔\n",
            "원뿔의 부피 =  104.66666666666666\n",
            "원뿔의 겉넓이 =  345.4\n",
            "반지름:20, 높이:5인 원뿔\n",
            "원뿔의 부피 =  2093.333333333333\n",
            "원뿔의 겉넓이 =  1570.0\n",
            "반지름:30, 높이:14인 원뿔\n",
            "원뿔의 부피 =  13188.0\n",
            "원뿔의 겉넓이 =  4144.8\n"
          ]
        }
      ]
    },
    {
      "cell_type": "markdown",
      "source": [
        "format 을 이용하여 출력"
      ],
      "metadata": {
        "id": "my5FS_z1oudd"
      }
    },
    {
      "cell_type": "code",
      "source": [
        "#format을 이용하여 구구단 출력\n",
        "print(format(\"구구단표\", \">20s\")) #오른쪽 정렬, 20칸, 문자\n",
        "#표 머리 출력\n",
        "print(\"   |\", end = \"\")  # | 출력, 개행없이(end=\"\")\n",
        "for i in range(1, 10):\n",
        "    print(\"  \", i, end = \"\") #(공백, 1) 개행없이 ~9까지 반복 출력\n",
        "#새로운 행 삽입\n",
        "print()\n",
        "print(\"----------------------------------------\")\n",
        "#구구단 출력\n",
        "for i in range(1, 10, 1):\n",
        "    print(i, \" |\", end = \"\")\n",
        "    for j in range(1, 10, 1):\n",
        "        print(format(i * j, \">4d\"), end = \"\")\n",
        "    print()\n",
        "\n"
      ],
      "metadata": {
        "colab": {
          "base_uri": "https://localhost:8080/"
        },
        "id": "0CPMuNK_o-0j",
        "outputId": "b63faa29-13be-4e4f-80f8-ee5f7491485a"
      },
      "execution_count": null,
      "outputs": [
        {
          "output_type": "stream",
          "name": "stdout",
          "text": [
            "                구구단표\n",
            "   |   1   2   3   4   5   6   7   8   9\n",
            "----------------------------------------\n",
            "1  |   1   2   3   4   5   6   7   8   9\n",
            "2  |   2   4   6   8  10  12  14  16  18\n",
            "3  |   3   6   9  12  15  18  21  24  27\n",
            "4  |   4   8  12  16  20  24  28  32  36\n",
            "5  |   5  10  15  20  25  30  35  40  45\n",
            "6  |   6  12  18  24  30  36  42  48  54\n",
            "7  |   7  14  21  28  35  42  49  56  63\n",
            "8  |   8  16  24  32  40  48  56  64  72\n",
            "9  |   9  18  27  36  45  54  63  72  81\n"
          ]
        }
      ]
    },
    {
      "cell_type": "markdown",
      "source": [
        "사용자 정의 함수"
      ],
      "metadata": {
        "id": "32XjpOr7miCY"
      }
    },
    {
      "cell_type": "code",
      "source": [
        "# 원뿔 계산 함수 정의\n",
        "def prt_cone_vol(r, h):\n",
        "    if r>0 and h>0:\n",
        "        # r, h가 모두 양수일 때\n",
        "        vol=1/3*3.14*r**2*h\n",
        "        print(\"원뿔의부피는\", vol, \"입니다.\")\n",
        "    else:\n",
        "        # r, h가 음수일 때\n",
        "        print(\"반지름의 높이 값에 양수를 입력하세요.\")\n"
      ],
      "metadata": {
        "id": "FJEMmRELNv31"
      },
      "execution_count": null,
      "outputs": []
    },
    {
      "cell_type": "markdown",
      "source": [
        "사용자 정의 함수 호출"
      ],
      "metadata": {
        "id": "nksm2_BZQLvp"
      }
    },
    {
      "cell_type": "code",
      "source": [
        "# 원뿔 계산 함수 호출\n",
        "rad=30\n",
        "hei=50\n",
        "prt_cone_vol(rad, hei)"
      ],
      "metadata": {
        "colab": {
          "base_uri": "https://localhost:8080/"
        },
        "id": "BQITrLwSQGiS",
        "outputId": "ea80f6f4-daa4-44a0-eccc-123a22e1d486"
      },
      "execution_count": null,
      "outputs": [
        {
          "output_type": "stream",
          "name": "stdout",
          "text": [
            "원뿔의부피는 47100.0 입니다.\n"
          ]
        }
      ]
    },
    {
      "cell_type": "code",
      "source": [
        "#숫자를 입력받고 역순으로 출력하는 함수를 사용\n",
        "num = int (input(\"숫자를 입력하세요. \"))\n",
        "\n",
        "def reverse_num(num):\n",
        "    while num != 0 :\n",
        "        digit = num % 10\n",
        "        num //= 10\n",
        "        print(digit, end = \"\")\n",
        "reverse_num(num)\n"
      ],
      "metadata": {
        "colab": {
          "base_uri": "https://localhost:8080/"
        },
        "id": "1tw8_UopPjUs",
        "outputId": "4e7aaaec-6da2-48cb-ec32-69872b098345"
      },
      "execution_count": null,
      "outputs": [
        {
          "output_type": "stream",
          "name": "stdout",
          "text": [
            "숫자를 입력하세요. 1234\n",
            "4321"
          ]
        }
      ]
    },
    {
      "cell_type": "markdown",
      "source": [
        "반환값이 있는 함수"
      ],
      "metadata": {
        "id": "tIVKKdnqSa44"
      }
    },
    {
      "cell_type": "code",
      "source": [
        "# 원뿔 계산 함수 정의\n",
        "def rtn_cone_vol(r, h):\n",
        "    if r>0 and h>0:\n",
        "        # r, h가 모두 양수일 때\n",
        "        vol=1/3*3.14*r**2*h\n",
        "        return vol\n",
        "    else:\n",
        "        # r, h가 음수일 때\n",
        "        print(\"반지름의 높이 값에 양수를 입력하세요.\")\n",
        "print(format(rtn_cone_vol(10, 20), \">10.3f\"), \"입니다.\") #format >20.3f  오른쪽정렬(>), 전체폭 10자리, 소수점 이하 3자리, 실수\n"
      ],
      "metadata": {
        "colab": {
          "base_uri": "https://localhost:8080/"
        },
        "id": "IpQg1xLTSdLY",
        "outputId": "eb6dd80f-ca8d-4d05-9d3e-099c41988233"
      },
      "execution_count": null,
      "outputs": [
        {
          "output_type": "stream",
          "name": "stdout",
          "text": [
            "  2093.333 입니다.\n"
          ]
        }
      ]
    },
    {
      "cell_type": "markdown",
      "source": [
        "동시 할당 (변수명1, 변수명2 = 값1, 값2)\n",
        "swap => 변수명1, 변수명2 = 변수명2, 변수명1"
      ],
      "metadata": {
        "id": "cVotKeDyVINm"
      }
    },
    {
      "cell_type": "code",
      "source": [
        "# 원뿔 계산 함수 정의\n",
        "def rtn_cone_vol_and_surf(r, h):\n",
        "    if r>0 and h>0:\n",
        "        # r, h가 모두 양수일 때\n",
        "        vol=1/3*3.14*r**2*h\n",
        "        surf=3.14*r**2+3.14*r*h\n",
        "        return vol, surf    #반환값 2개\n",
        "    else:\n",
        "        # r, h가 음수일 때\n",
        "        print(\"반지름의 높이 값에 양수를 입력하세요.\")\n",
        "volume, surface = rtn_cone_vol_and_surf(50, 100)  # rtn~함수의 리턴값 vol, surf를 각각 volume, surface에 할당\n",
        "print(format(volume, \">10.2f\"), \"입니다.\")\n",
        "print(format(surface, \">10.2f\"), \"입니다.\")\n"
      ],
      "metadata": {
        "colab": {
          "base_uri": "https://localhost:8080/"
        },
        "id": "1Veo0lVBWZxS",
        "outputId": "eaeeaa18-5eb3-4506-abeb-bd1b39e4b1a3"
      },
      "execution_count": null,
      "outputs": [
        {
          "output_type": "stream",
          "name": "stdout",
          "text": [
            " 261666.67 입니다.\n",
            "  23550.00 입니다.\n"
          ]
        }
      ]
    },
    {
      "cell_type": "code",
      "source": [
        "# 세 개의 사용자 입력을 오름차순으로 정렬하는 함수\n",
        "a=int(input(\"첫번째 숫자를 입력하세요.\"))\n",
        "b=int(input(\"두번째 숫자를 입력하세요.\"))\n",
        "c=int(input(\"세번째 숫자를 입력하세요.\"))\n",
        "\n",
        "def sort3(a, b, c): #전달받은 값을 매개변수 a, b, c에 담아 실행\n",
        "    if a>b:\n",
        "        a, b=b, a #a, b의 값을 맞교환  동시할당\n",
        "    if a>c:\n",
        "        a, c=c, a\n",
        "    if b>c:\n",
        "        b, c=c, b\n",
        "    print(a, b, c) #a, b, c는 함수 내의 매개변수\n",
        "\n",
        "sort3(a, b, c)\n",
        "print(\"출력 이후 \", a, b, c) #원래의 a, b, c의 값은 변함없음.\n"
      ],
      "metadata": {
        "colab": {
          "base_uri": "https://localhost:8080/"
        },
        "id": "zonG_erGY7Hj",
        "outputId": "4199d855-262d-4051-8214-4f18c0f0fa3e"
      },
      "execution_count": null,
      "outputs": [
        {
          "output_type": "stream",
          "name": "stdout",
          "text": [
            "첫번째 숫자를 입력하세요.24\n",
            "두번째 숫자를 입력하세요.6\n",
            "세번째 숫자를 입력하세요.121\n",
            "6 24 121\n",
            "출력 이후  24 6 121\n"
          ]
        }
      ]
    },
    {
      "cell_type": "markdown",
      "source": [
        "기본 매개변수:함수 호출시 매개변수가 전달되지 않을 경우 기본값이 전달됨."
      ],
      "metadata": {
        "id": "q8cR7fOCeDPW"
      }
    },
    {
      "cell_type": "code",
      "source": [
        "# 원뿔 계산 함수 정의\n",
        "def rtn_cone_vol(r = 20, h = 50): #기본값 지정\n",
        "    if r>0 and h>0:\n",
        "        # r, h가 모두 양수일 때\n",
        "        vol=1/3*3.14*r**2*h\n",
        "        surf=3.14*r**2+3.14*r*h\n",
        "        return vol, surf\n",
        "    else:\n",
        "        # r, h가 음수일 때\n",
        "        print(\"반지름의 높이 값에 양수를 입력하세요.\")\n",
        "print(rtn_cone_vol())  #기본값으로 매개변수 사용\n",
        "print(rtn_cone_vol(50, 100))"
      ],
      "metadata": {
        "colab": {
          "base_uri": "https://localhost:8080/"
        },
        "id": "elG-_KlNeoOb",
        "outputId": "242b6aa7-27e8-48b7-dbba-75625f1c192d"
      },
      "execution_count": null,
      "outputs": [
        {
          "output_type": "stream",
          "name": "stdout",
          "text": [
            "(20933.333333333332, 4396.0)\n",
            "(261666.66666666666, 23550.0)\n"
          ]
        }
      ]
    },
    {
      "cell_type": "markdown",
      "source": [
        "가변 매개변수: 매개변수 앞에 *를 붙임. 일반 매개변수 앞에 올 수 없음. 1개만 사용"
      ],
      "metadata": {
        "id": "T5GoSCQ7isFC"
      }
    },
    {
      "cell_type": "code",
      "source": [
        "#여러개의 수 입력받아 합과 평균을 반환하는 함수\n",
        "def var_sum_avg(*num):\n",
        "    sum = 0\n",
        "    count = 0\n",
        "    for i in num :\n",
        "        sum += i\n",
        "        count += 1 #Python에서는 증감연산자(++, --) 사용할 수 없음.\n",
        "    return sum, sum/count\n",
        "print(var_sum_avg(10, 20, 30, 40))\n",
        "print(var_sum_avg(20, 25, 10, 85, 100, 150))"
      ],
      "metadata": {
        "colab": {
          "base_uri": "https://localhost:8080/"
        },
        "id": "4hp0xLBris0w",
        "outputId": "48c44fd0-d38f-4e46-934b-55eba053b084"
      },
      "execution_count": null,
      "outputs": [
        {
          "output_type": "stream",
          "name": "stdout",
          "text": [
            "(100, 25.0)\n",
            "(390, 65.0)\n"
          ]
        }
      ]
    },
    {
      "cell_type": "markdown",
      "source": [
        "원뿔 클래스"
      ],
      "metadata": {
        "id": "fPhOXdTKVN4h"
      }
    },
    {
      "cell_type": "code",
      "source": [
        "class Cone :                # 클래스 이름은 되도록 대문자로 \n",
        "    def __init__(self, radius = 20, height = 30): # 기본값(입력이 주어지지 않을 경우) \n",
        "        self.r = radius     # r: 메서드 내부에서만 유효,  self.r: 클래스 전체에서 통용\n",
        "        self.h = height\n",
        "    def get_vol(self):\n",
        "        return 1/3 * 3.14 * self.r ** 2 * self.h\n",
        "    def get_surf(self):\n",
        "        return 3.14 * self.r ** 2 + 3.14 * self.r * self.h\n",
        "    "
      ],
      "metadata": {
        "id": "q0Q9aC9YVVrw"
      },
      "execution_count": null,
      "outputs": []
    },
    {
      "cell_type": "markdown",
      "source": [
        "BMI 계계산 프로그램"
      ],
      "metadata": {
        "id": "CLmGHQ5g5oXc"
      }
    },
    {
      "cell_type": "code",
      "source": [
        "class BMI :\n",
        "    def __init__(self, name, age, weight, height):\n",
        "        self.name = name\n",
        "        self.age = age\n",
        "        self.weight = weight\n",
        "        self.height = height\n",
        "    def get_BMI(self):\n",
        "        return self.weight / ((self.height / 100) ** 2)     # 센티미터로 입력된 키를 미터로 \n",
        "    def get_status(self):\n",
        "        BMI = self.get_BMI()    # 메서드 내부에서 self.get_BMI()를 BMI로 해서 코드를 간략하게\n",
        "        if BMI >= 25:\n",
        "            return \"비만\"\n",
        "        elif BMI >= 23 and BMI < 25:\n",
        "            return \"과체중\"\n",
        "        elif BMI >= 18.5 and BMI < 23:\n",
        "            return \"정상\"\n",
        "        else:\n",
        "            return \"저체중\"\n"
      ],
      "metadata": {
        "id": "NOlgIaPK5xRf"
      },
      "execution_count": null,
      "outputs": []
    },
    {
      "cell_type": "markdown",
      "source": [
        "원뿔 클래스의 활용"
      ],
      "metadata": {
        "id": "RSg6I1wuBRaL"
      }
    },
    {
      "cell_type": "code",
      "source": [
        "unit_cone = Cone()          # 객체참조변수 생성(기본값 사용용)\n",
        "big_cone = Cone(50, 100)    # 객체참조변수 생성(매개변수 입력력)\n",
        "\n",
        "print(\"단위 원뿔의 겉넓이와 부피는\", unit_cone.get_surf(), unit_cone.get_vol(), \"입니다.\")  # ~.~ 멤버에 접근\n",
        "print(\"큰 원뿔의 겉넓이와 부피는\", big_cone.get_surf(), big_cone.get_vol(), \"입니다.\")\n"
      ],
      "metadata": {
        "colab": {
          "base_uri": "https://localhost:8080/"
        },
        "id": "aqcUgu_OBWiE",
        "outputId": "d5a23b61-8c39-4609-c7f9-9ecffb19469b"
      },
      "execution_count": null,
      "outputs": [
        {
          "output_type": "stream",
          "name": "stdout",
          "text": [
            "단위 원뿔의 겉넓이와 부피는 3140.0 12559.999999999998 입니다.\n",
            "큰 원뿔의 겉넓이와 부피는 23550.0 261666.66666666666 입니다.\n"
          ]
        }
      ]
    },
    {
      "cell_type": "markdown",
      "source": [
        "BMI 클래스의 활용"
      ],
      "metadata": {
        "id": "-obzNXKfFEfB"
      }
    },
    {
      "cell_type": "code",
      "source": [
        "person1 = BMI(\"홍길동\", 40, 78, 182) # 객체 생성\n",
        "\n",
        "print(person1.name, \"님(\" + str(person1.age), \"세)의 BMI 수치는\", person1.get_BMI(), \", 결과는 \", person1.get_status(), \"입니다.\")"
      ],
      "metadata": {
        "colab": {
          "base_uri": "https://localhost:8080/"
        },
        "id": "-d0INTx2FGtO",
        "outputId": "36641d08-c222-4ed3-e7bd-3ad9353f3636"
      },
      "execution_count": null,
      "outputs": [
        {
          "output_type": "stream",
          "name": "stdout",
          "text": [
            "홍길동 님(40 세)의 BMI 수치는 23.54788069073783 , 결과는  과체중 입니다."
          ]
        }
      ]
    },
    {
      "cell_type": "code",
      "source": [
        "number = 20\n",
        "print(type(number))\n",
        "print(id(number))"
      ],
      "metadata": {
        "colab": {
          "base_uri": "https://localhost:8080/"
        },
        "id": "mlzy40MYHCNK",
        "outputId": "f98edca7-5a11-4720-f1a6-40f6a046094a"
      },
      "execution_count": null,
      "outputs": [
        {
          "output_type": "stream",
          "name": "stdout",
          "text": [
            "<class 'int'>\n",
            "139763818265488\n"
          ]
        }
      ]
    },
    {
      "cell_type": "code",
      "source": [
        "print(\"I love python\".upper())\n",
        "print(\"I love python\".replace(\"o\", \"i\"))\n",
        "isymbol = \"I love python\".replace(\"o\", \"i\")\n",
        "print(isymbol)\n",
        "dir(str)    # str에 내장되어 있는 변수와 메서드 출력"
      ],
      "metadata": {
        "colab": {
          "base_uri": "https://localhost:8080/"
        },
        "id": "NP7Kt345Hdo4",
        "outputId": "6e26b8f0-a1e5-4e35-f457-986c02fa6ebc"
      },
      "execution_count": null,
      "outputs": [
        {
          "output_type": "stream",
          "name": "stdout",
          "text": [
            "I live pythin\n"
          ]
        },
        {
          "output_type": "execute_result",
          "data": {
            "text/plain": [
              "['__add__',\n",
              " '__class__',\n",
              " '__contains__',\n",
              " '__delattr__',\n",
              " '__dir__',\n",
              " '__doc__',\n",
              " '__eq__',\n",
              " '__format__',\n",
              " '__ge__',\n",
              " '__getattribute__',\n",
              " '__getitem__',\n",
              " '__getnewargs__',\n",
              " '__gt__',\n",
              " '__hash__',\n",
              " '__init__',\n",
              " '__init_subclass__',\n",
              " '__iter__',\n",
              " '__le__',\n",
              " '__len__',\n",
              " '__lt__',\n",
              " '__mod__',\n",
              " '__mul__',\n",
              " '__ne__',\n",
              " '__new__',\n",
              " '__reduce__',\n",
              " '__reduce_ex__',\n",
              " '__repr__',\n",
              " '__rmod__',\n",
              " '__rmul__',\n",
              " '__setattr__',\n",
              " '__sizeof__',\n",
              " '__str__',\n",
              " '__subclasshook__',\n",
              " 'capitalize',\n",
              " 'casefold',\n",
              " 'center',\n",
              " 'count',\n",
              " 'encode',\n",
              " 'endswith',\n",
              " 'expandtabs',\n",
              " 'find',\n",
              " 'format',\n",
              " 'format_map',\n",
              " 'index',\n",
              " 'isalnum',\n",
              " 'isalpha',\n",
              " 'isascii',\n",
              " 'isdecimal',\n",
              " 'isdigit',\n",
              " 'isidentifier',\n",
              " 'islower',\n",
              " 'isnumeric',\n",
              " 'isprintable',\n",
              " 'isspace',\n",
              " 'istitle',\n",
              " 'isupper',\n",
              " 'join',\n",
              " 'ljust',\n",
              " 'lower',\n",
              " 'lstrip',\n",
              " 'maketrans',\n",
              " 'partition',\n",
              " 'removeprefix',\n",
              " 'removesuffix',\n",
              " 'replace',\n",
              " 'rfind',\n",
              " 'rindex',\n",
              " 'rjust',\n",
              " 'rpartition',\n",
              " 'rsplit',\n",
              " 'rstrip',\n",
              " 'split',\n",
              " 'splitlines',\n",
              " 'startswith',\n",
              " 'strip',\n",
              " 'swapcase',\n",
              " 'title',\n",
              " 'translate',\n",
              " 'upper',\n",
              " 'zfill']"
            ]
          },
          "metadata": {},
          "execution_count": 22
        }
      ]
    },
    {
      "cell_type": "markdown",
      "source": [],
      "metadata": {
        "id": "Zg1y0CLaEGgS"
      }
    },
    {
      "cell_type": "markdown",
      "source": [
        "데이터 필드 감추기\n",
        "- 사용자의 직접적인 접근 차단\n",
        "- public과 다른 private 필드로 정의\n",
        "- 클래스 내부에서만 접근\n",
        "- 밑줄로 정의  ex) self.__"
      ],
      "metadata": {
        "id": "nztU58oEJpKF"
      }
    },
    {
      "cell_type": "markdown",
      "source": [
        "\n",
        "접근자와 변경자\n",
        "- private 데이터 필드에 접근하는 메소드\n",
        "- 접근자(accessor): 데이터 필드 반환\n",
        "- 변경자(mutator): 데이터 필드 설정"
      ],
      "metadata": {
        "id": "OOLxnJQ4LmpU"
      }
    },
    {
      "cell_type": "markdown",
      "source": [
        "원뿔 클래스 개선\n"
      ],
      "metadata": {
        "id": "m1zLKJ6VK0IS"
      }
    },
    {
      "cell_type": "code",
      "source": [
        "class pCone : \n",
        "    def __init__(self, radius = 20, height = 30): \n",
        "        if radius > 0 and height > 0:\n",
        "            self.__r = radius \n",
        "            self.__h = height\n",
        "    def get_vol(self):\n",
        "        return 1/3 * 3.14 * self.__r ** 2 * self.__h\n",
        "    def get_surf(self):\n",
        "        return 3.14 * self.__r ** 2 + 3.14 * self.__r * self.__h\n",
        "    def get_radius(self):\n",
        "        return self.__r\n",
        "    def set_radius(self):\n",
        "        if radius > 0:\n",
        "            self.__r = radius"
      ],
      "metadata": {
        "id": "yZdFnukWL_Aj"
      },
      "execution_count": null,
      "outputs": []
    },
    {
      "cell_type": "code",
      "source": [
        "perfect_cone = pCone(100, 200)\n",
        "perfect_cone.get_surf()"
      ],
      "metadata": {
        "colab": {
          "base_uri": "https://localhost:8080/"
        },
        "id": "pPHCdwQNMLm-",
        "outputId": "d0fd5d80-4d14-4439-acbe-8f40e5f63228"
      },
      "execution_count": null,
      "outputs": [
        {
          "output_type": "execute_result",
          "data": {
            "text/plain": [
              "94200.0"
            ]
          },
          "metadata": {},
          "execution_count": 35
        }
      ]
    }
  ]
}